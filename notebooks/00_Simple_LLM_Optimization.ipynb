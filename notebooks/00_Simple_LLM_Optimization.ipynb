{
 "cells": [
  {
   "cell_type": "markdown",
   "id": "bee80130",
   "metadata": {},
   "source": [
    "Let's set up a simple task on asking a large language model to do elementry level mathematics.\n",
    "\n",
    "Here the user will provide expressions that can be solved using BODMAS."
   ]
  },
  {
   "cell_type": "code",
   "execution_count": 228,
   "id": "3d19aded",
   "metadata": {},
   "outputs": [],
   "source": [
    "import os\n",
    "import re\n",
    "import numexpr\n",
    "from typing import List\n",
    "from pydantic import BaseModel, Field, validator\n",
    "\n",
    "from langchain.llms import OpenAI\n",
    "from langchain.chains import LLMChain\n",
    "from langchain.chat_models import ChatOpenAI\n",
    "from langchain.prompts import PromptTemplate\n",
    "from langchain.output_parsers import PydanticOutputParser\n",
    "from langchain.output_parsers import OutputFixingParser\n",
    "\n",
    "from langchain.callbacks import get_openai_callback"
   ]
  },
  {
   "cell_type": "code",
   "execution_count": 183,
   "id": "2fb8a5a9",
   "metadata": {},
   "outputs": [],
   "source": [
    "from dotenv import load_dotenv\n",
    "load_dotenv(\"/Users/ayushthakur/integrations/llm-eval/apis.env\")\n",
    "os.environ[\"OPENAI_API_KEY\"] = os.getenv(\"OPENAI_API_KEY\")"
   ]
  },
  {
   "cell_type": "markdown",
   "id": "b7fb2561",
   "metadata": {},
   "source": [
    "## Utils"
   ]
  },
  {
   "cell_type": "code",
   "execution_count": 269,
   "id": "d863f850",
   "metadata": {},
   "outputs": [],
   "source": [
    "# Define your desired data structure.\n",
    "class Result(BaseModel):\n",
    "    result: str = Field(description=\"Computation result returned by the LLM\")\n",
    "\n",
    "parser = PydanticOutputParser(pydantic_object=Result)\n",
    "fixing_parser = OutputFixingParser.from_llm(parser=parser, llm=ChatOpenAI())"
   ]
  },
  {
   "cell_type": "code",
   "execution_count": 303,
   "id": "4316f978",
   "metadata": {},
   "outputs": [],
   "source": [
    "def is_valid_expression(expression):\n",
    "    # Remove all white spaces from the expression\n",
    "    expression = re.sub(r'\\s', '', expression)\n",
    "\n",
    "    # Check if the expression contains invalid characters\n",
    "    if not re.match(r'^[\\d+\\-*/().\\[\\]{}^√]+$', expression):\n",
    "        return False\n",
    "\n",
    "    # Validate brackets using a stack\n",
    "    stack = []\n",
    "    opening_brackets = {'(', '[', '{'}\n",
    "    closing_brackets = {')', ']', '}'}\n",
    "    bracket_pairs = {'(': ')', '[': ']', '{': '}'}\n",
    "\n",
    "    for char in expression:\n",
    "        if char in opening_brackets:\n",
    "            stack.append(char)\n",
    "        elif char in closing_brackets:\n",
    "            if not stack or bracket_pairs[stack.pop()] != char:\n",
    "                return False\n",
    "\n",
    "    if stack:\n",
    "        return False\n",
    "\n",
    "    return True\n",
    "\n",
    "\n",
    "def correct_expression(expr: str) -> str:\n",
    "    expr = expr.replace(\" \", \"\")\n",
    "    expr = expr.replace(\"[\", \"(\")\n",
    "    expr = expr.replace(\"]\", \")\")\n",
    "    expr = expr.replace(\"{\", \"(\")\n",
    "    expr = expr.replace(\"}\", \")\")\n",
    "    expr = expr.replace(\"^\", \"**\")\n",
    "    \n",
    "    return expr\n",
    "\n",
    "\n",
    "def evaluate_expr(expr: str) -> str:\n",
    "    local_dict = {\"pi\": math.pi, \"e\": math.e}\n",
    "\n",
    "    if is_valid_expression(expr):\n",
    "        expr = correct_expression(expr)\n",
    "        output = str(\n",
    "            numexpr.evaluate(\n",
    "                expr.strip(),\n",
    "                global_dict={},  # restrict access to globals\n",
    "                local_dict=local_dict,  # add common mathematical functions\n",
    "            )\n",
    "        )\n",
    "        return output\n",
    "    else:\n",
    "        return None"
   ]
  },
  {
   "cell_type": "code",
   "execution_count": 304,
   "id": "db423d0a",
   "metadata": {},
   "outputs": [],
   "source": [
    "prompt_template = \"\"\"\n",
    "The following is the mathematical expression provided by the user.\n",
    "{question}\n",
    "\n",
    "Find the answer using the BODMAS rule in the {format_instructions}:\"\"\"\n",
    "\n",
    "\n",
    "PROMPT = PromptTemplate(\n",
    "    template=prompt_template,\n",
    "    input_variables=[\"question\"],\n",
    "    partial_variables={\"format_instructions\": parser.get_format_instructions()}\n",
    ")\n",
    "\n",
    "\n",
    "def load_chain():\n",
    "    llm = ChatOpenAI(temperature=0, model_name=\"gpt-4\")\n",
    "    chain = LLMChain(\n",
    "        llm=llm,\n",
    "        prompt=PROMPT\n",
    "    )\n",
    "    return chain\n",
    "\n",
    "\n",
    "def get_result(question):\n",
    "    chain = load_chain()\n",
    "\n",
    "    with get_openai_callback() as cb:\n",
    "        output = chain(\n",
    "            question\n",
    "        )\n",
    "\n",
    "    return output, cb"
   ]
  },
  {
   "cell_type": "code",
   "execution_count": 272,
   "id": "e567990b",
   "metadata": {},
   "outputs": [
    {
     "name": "stdout",
     "output_type": "stream",
     "text": [
      "To find the answer using the BODMAS rule, we need to follow the order of operations: Brackets, Orders (exponents and roots), Division and Multiplication, and Addition and Subtraction.\n",
      "\n",
      "Given expression: 25 - [20 - {10-(7 - 5-3)}]\n",
      "\n",
      "Step 1: Solve the innermost brackets first (7 - 5 - 3)\n",
      "7 - 5 - 3 = 2 - 3 = -1\n",
      "\n",
      "Step 2: Replace the innermost brackets with the result\n",
      "25 - [20 - {10 - (-1)}]\n",
      "\n",
      "Step 3: Solve the next brackets (10 - (-1))\n",
      "10 - (-1) = 10 + 1 = 11\n",
      "\n",
      "Step 4: Replace the brackets with the result\n",
      "25 - [20 - 11]\n",
      "\n",
      "Step 5: Solve the remaining brackets (20 - 11)\n",
      "20 - 11 = 9\n",
      "\n",
      "Step 6: Replace the brackets with the result\n",
      "25 - 9\n",
      "\n",
      "Step 7: Perform the subtraction\n",
      "25 - 9 = 16\n",
      "\n",
      "The final answer is 16. Now, let's format the output as a JSON instance that conforms to the given JSON schema.\n",
      "\n",
      "{\"result\": \"16\"}\n"
     ]
    }
   ],
   "source": [
    "question = \"25 - [20 - {10-(7 - 5-3)}]\"\n",
    "output, cb = get_result(question)\n",
    "print(output[\"text\"], sep=\"\\n\")"
   ]
  },
  {
   "cell_type": "code",
   "execution_count": 273,
   "id": "335c5020",
   "metadata": {},
   "outputs": [
    {
     "data": {
      "text/plain": [
       "Tokens Used: 460\n",
       "\tPrompt Tokens: 204\n",
       "\tCompletion Tokens: 256\n",
       "Successful Requests: 1\n",
       "Total Cost (USD): $0.02148"
      ]
     },
     "execution_count": 273,
     "metadata": {},
     "output_type": "execute_result"
    }
   ],
   "source": [
    "cb"
   ]
  },
  {
   "cell_type": "code",
   "execution_count": 278,
   "id": "9d30ed42",
   "metadata": {},
   "outputs": [
    {
     "data": {
      "text/plain": [
       "'16'"
      ]
     },
     "execution_count": 278,
     "metadata": {},
     "output_type": "execute_result"
    }
   ],
   "source": [
    "with get_openai_callback() as cb:\n",
    "    pred_result = fixing_parser.parse(output[\"text\"])\n",
    "pred_result.result"
   ]
  },
  {
   "cell_type": "code",
   "execution_count": 284,
   "id": "f9df3908",
   "metadata": {},
   "outputs": [
    {
     "data": {
      "text/plain": [
       "Tokens Used: 785\n",
       "\tPrompt Tokens: 779\n",
       "\tCompletion Tokens: 6\n",
       "Successful Requests: 1\n",
       "Total Cost (USD): $0.0015700000000000002"
      ]
     },
     "execution_count": 284,
     "metadata": {},
     "output_type": "execute_result"
    }
   ],
   "source": [
    "cb"
   ]
  },
  {
   "cell_type": "code",
   "execution_count": 277,
   "id": "50ad28fc",
   "metadata": {},
   "outputs": [
    {
     "data": {
      "text/plain": [
       "'16'"
      ]
     },
     "execution_count": 277,
     "metadata": {},
     "output_type": "execute_result"
    }
   ],
   "source": [
    "true_result = evaluate_expr(question)\n",
    "true_result"
   ]
  },
  {
   "cell_type": "code",
   "execution_count": null,
   "id": "dfb7e0e7",
   "metadata": {},
   "outputs": [],
   "source": []
  }
 ],
 "metadata": {
  "kernelspec": {
   "display_name": "Python 3 (ipykernel)",
   "language": "python",
   "name": "python3"
  },
  "language_info": {
   "codemirror_mode": {
    "name": "ipython",
    "version": 3
   },
   "file_extension": ".py",
   "mimetype": "text/x-python",
   "name": "python",
   "nbconvert_exporter": "python",
   "pygments_lexer": "ipython3",
   "version": "3.10.0"
  }
 },
 "nbformat": 4,
 "nbformat_minor": 5
}
